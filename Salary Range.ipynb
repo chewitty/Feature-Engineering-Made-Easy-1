{
 "cells": [
  {
   "cell_type": "code",
   "execution_count": 1,
   "metadata": {
    "execution": {
     "iopub.execute_input": "2020-10-06T08:54:34.663887Z",
     "iopub.status.busy": "2020-10-06T08:54:34.663887Z",
     "iopub.status.idle": "2020-10-06T08:54:37.082668Z",
     "shell.execute_reply": "2020-10-06T08:54:37.081671Z",
     "shell.execute_reply.started": "2020-10-06T08:54:34.663887Z"
    }
   },
   "outputs": [],
   "source": [
    "import pandas as pd\n",
    "import numpy as np\n",
    "import matplotlib.pyplot as plt\n",
    "import seaborn as sns\n",
    "%matplotlib inline\n",
    "plt.style.use('fivethirtyeight')"
   ]
  },
  {
   "cell_type": "code",
   "execution_count": 22,
   "metadata": {
    "execution": {
     "iopub.execute_input": "2020-10-06T09:10:55.933489Z",
     "iopub.status.busy": "2020-10-06T09:10:55.933489Z",
     "iopub.status.idle": "2020-10-06T09:10:55.963772Z",
     "shell.execute_reply": "2020-10-06T09:10:55.962412Z",
     "shell.execute_reply.started": "2020-10-06T09:10:55.933489Z"
    }
   },
   "outputs": [
    {
     "data": {
      "text/html": [
       "<div>\n",
       "<style scoped>\n",
       "    .dataframe tbody tr th:only-of-type {\n",
       "        vertical-align: middle;\n",
       "    }\n",
       "\n",
       "    .dataframe tbody tr th {\n",
       "        vertical-align: top;\n",
       "    }\n",
       "\n",
       "    .dataframe thead th {\n",
       "        text-align: right;\n",
       "    }\n",
       "</style>\n",
       "<table border=\"1\" class=\"dataframe\">\n",
       "  <thead>\n",
       "    <tr style=\"text-align: right;\">\n",
       "      <th></th>\n",
       "      <th>SetID</th>\n",
       "      <th>Job Code</th>\n",
       "      <th>Eff Date</th>\n",
       "      <th>Sal End Date</th>\n",
       "      <th>Salary SetID</th>\n",
       "      <th>Sal Plan</th>\n",
       "      <th>Grade</th>\n",
       "      <th>Step</th>\n",
       "      <th>Biweekly High Rate</th>\n",
       "      <th>Biweekly Low Rate</th>\n",
       "      <th>Union Code</th>\n",
       "      <th>Extended Step</th>\n",
       "      <th>Pay Type</th>\n",
       "    </tr>\n",
       "  </thead>\n",
       "  <tbody>\n",
       "    <tr>\n",
       "      <th>0</th>\n",
       "      <td>COMMN</td>\n",
       "      <td>0109</td>\n",
       "      <td>07/01/2009 12:00:00 AM</td>\n",
       "      <td>06/30/2010 12:00:00 AM</td>\n",
       "      <td>COMMN</td>\n",
       "      <td>SFM</td>\n",
       "      <td>00000</td>\n",
       "      <td>1</td>\n",
       "      <td>$0.00</td>\n",
       "      <td>$0.00</td>\n",
       "      <td>330</td>\n",
       "      <td>0</td>\n",
       "      <td>C</td>\n",
       "    </tr>\n",
       "    <tr>\n",
       "      <th>1</th>\n",
       "      <td>COMMN</td>\n",
       "      <td>0110</td>\n",
       "      <td>07/01/2009 12:00:00 AM</td>\n",
       "      <td>06/30/2010 12:00:00 AM</td>\n",
       "      <td>COMMN</td>\n",
       "      <td>SFM</td>\n",
       "      <td>00000</td>\n",
       "      <td>1</td>\n",
       "      <td>$15.00</td>\n",
       "      <td>$15.00</td>\n",
       "      <td>323</td>\n",
       "      <td>0</td>\n",
       "      <td>D</td>\n",
       "    </tr>\n",
       "    <tr>\n",
       "      <th>2</th>\n",
       "      <td>COMMN</td>\n",
       "      <td>0111</td>\n",
       "      <td>07/01/2009 12:00:00 AM</td>\n",
       "      <td>06/30/2010 12:00:00 AM</td>\n",
       "      <td>COMMN</td>\n",
       "      <td>SFM</td>\n",
       "      <td>00000</td>\n",
       "      <td>1</td>\n",
       "      <td>$25.00</td>\n",
       "      <td>$25.00</td>\n",
       "      <td>323</td>\n",
       "      <td>0</td>\n",
       "      <td>D</td>\n",
       "    </tr>\n",
       "    <tr>\n",
       "      <th>3</th>\n",
       "      <td>COMMN</td>\n",
       "      <td>0112</td>\n",
       "      <td>07/01/2009 12:00:00 AM</td>\n",
       "      <td>06/30/2010 12:00:00 AM</td>\n",
       "      <td>COMMN</td>\n",
       "      <td>SFM</td>\n",
       "      <td>00000</td>\n",
       "      <td>1</td>\n",
       "      <td>$50.00</td>\n",
       "      <td>$50.00</td>\n",
       "      <td>323</td>\n",
       "      <td>0</td>\n",
       "      <td>D</td>\n",
       "    </tr>\n",
       "    <tr>\n",
       "      <th>4</th>\n",
       "      <td>COMMN</td>\n",
       "      <td>0114</td>\n",
       "      <td>07/01/2009 12:00:00 AM</td>\n",
       "      <td>06/30/2010 12:00:00 AM</td>\n",
       "      <td>COMMN</td>\n",
       "      <td>SFM</td>\n",
       "      <td>00000</td>\n",
       "      <td>1</td>\n",
       "      <td>$100.00</td>\n",
       "      <td>$100.00</td>\n",
       "      <td>323</td>\n",
       "      <td>0</td>\n",
       "      <td>M</td>\n",
       "    </tr>\n",
       "  </tbody>\n",
       "</table>\n",
       "</div>"
      ],
      "text/plain": [
       "   SetID Job Code                Eff Date            Sal End Date  \\\n",
       "0  COMMN     0109  07/01/2009 12:00:00 AM  06/30/2010 12:00:00 AM   \n",
       "1  COMMN     0110  07/01/2009 12:00:00 AM  06/30/2010 12:00:00 AM   \n",
       "2  COMMN     0111  07/01/2009 12:00:00 AM  06/30/2010 12:00:00 AM   \n",
       "3  COMMN     0112  07/01/2009 12:00:00 AM  06/30/2010 12:00:00 AM   \n",
       "4  COMMN     0114  07/01/2009 12:00:00 AM  06/30/2010 12:00:00 AM   \n",
       "\n",
       "  Salary SetID Sal Plan  Grade  Step Biweekly High Rate Biweekly Low Rate  \\\n",
       "0        COMMN      SFM  00000     1              $0.00             $0.00   \n",
       "1        COMMN      SFM  00000     1             $15.00            $15.00   \n",
       "2        COMMN      SFM  00000     1             $25.00            $25.00   \n",
       "3        COMMN      SFM  00000     1             $50.00            $50.00   \n",
       "4        COMMN      SFM  00000     1            $100.00           $100.00   \n",
       "\n",
       "   Union Code  Extended Step Pay Type  \n",
       "0         330              0        C  \n",
       "1         323              0        D  \n",
       "2         323              0        D  \n",
       "3         323              0        D  \n",
       "4         323              0        M  "
      ]
     },
     "execution_count": 22,
     "metadata": {},
     "output_type": "execute_result"
    }
   ],
   "source": [
    "# load the dataset\n",
    "salary_ranges = pd.read_csv('data/Salary_Ranges_by_Job_Classification.csv')\n",
    "salary_ranges.head()"
   ]
  },
  {
   "cell_type": "code",
   "execution_count": 4,
   "metadata": {
    "execution": {
     "iopub.execute_input": "2020-10-06T08:57:06.997763Z",
     "iopub.status.busy": "2020-10-06T08:57:06.997763Z",
     "iopub.status.idle": "2020-10-06T08:57:07.016684Z",
     "shell.execute_reply": "2020-10-06T08:57:07.015667Z",
     "shell.execute_reply.started": "2020-10-06T08:57:06.997763Z"
    }
   },
   "outputs": [
    {
     "name": "stdout",
     "output_type": "stream",
     "text": [
      "<class 'pandas.core.frame.DataFrame'>\n",
      "RangeIndex: 1356 entries, 0 to 1355\n",
      "Data columns (total 13 columns):\n",
      " #   Column              Non-Null Count  Dtype \n",
      "---  ------              --------------  ----- \n",
      " 0   SetID               1356 non-null   object\n",
      " 1   Job Code            1356 non-null   object\n",
      " 2   Eff Date            1356 non-null   object\n",
      " 3   Sal End Date        1356 non-null   object\n",
      " 4   Salary SetID        1356 non-null   object\n",
      " 5   Sal Plan            1356 non-null   object\n",
      " 6   Grade               1356 non-null   object\n",
      " 7   Step                1356 non-null   int64 \n",
      " 8   Biweekly High Rate  1356 non-null   object\n",
      " 9   Biweekly Low Rate   1356 non-null   object\n",
      " 10  Union Code          1356 non-null   int64 \n",
      " 11  Extended Step       1356 non-null   int64 \n",
      " 12  Pay Type            1356 non-null   object\n",
      "dtypes: int64(3), object(10)\n",
      "memory usage: 137.8+ KB\n"
     ]
    }
   ],
   "source": [
    "# review the general information about the dataset\n",
    "salary_ranges.info()"
   ]
  },
  {
   "cell_type": "code",
   "execution_count": 5,
   "metadata": {
    "execution": {
     "iopub.execute_input": "2020-10-06T08:59:00.867840Z",
     "iopub.status.busy": "2020-10-06T08:59:00.867840Z",
     "iopub.status.idle": "2020-10-06T08:59:00.884794Z",
     "shell.execute_reply": "2020-10-06T08:59:00.883797Z",
     "shell.execute_reply.started": "2020-10-06T08:59:00.867840Z"
    }
   },
   "outputs": [
    {
     "data": {
      "text/plain": [
       "SetID                 0\n",
       "Job Code              0\n",
       "Eff Date              0\n",
       "Sal End Date          0\n",
       "Salary SetID          0\n",
       "Sal Plan              0\n",
       "Grade                 0\n",
       "Step                  0\n",
       "Biweekly High Rate    0\n",
       "Biweekly Low Rate     0\n",
       "Union Code            0\n",
       "Extended Step         0\n",
       "Pay Type              0\n",
       "dtype: int64"
      ]
     },
     "execution_count": 5,
     "metadata": {},
     "output_type": "execute_result"
    }
   ],
   "source": [
    "salary_ranges.isnull().sum()"
   ]
  },
  {
   "cell_type": "code",
   "execution_count": 6,
   "metadata": {
    "execution": {
     "iopub.execute_input": "2020-10-06T08:59:38.051170Z",
     "iopub.status.busy": "2020-10-06T08:59:38.051170Z",
     "iopub.status.idle": "2020-10-06T08:59:38.082090Z",
     "shell.execute_reply": "2020-10-06T08:59:38.081128Z",
     "shell.execute_reply.started": "2020-10-06T08:59:38.051170Z"
    }
   },
   "outputs": [
    {
     "data": {
      "text/html": [
       "<div>\n",
       "<style scoped>\n",
       "    .dataframe tbody tr th:only-of-type {\n",
       "        vertical-align: middle;\n",
       "    }\n",
       "\n",
       "    .dataframe tbody tr th {\n",
       "        vertical-align: top;\n",
       "    }\n",
       "\n",
       "    .dataframe thead th {\n",
       "        text-align: right;\n",
       "    }\n",
       "</style>\n",
       "<table border=\"1\" class=\"dataframe\">\n",
       "  <thead>\n",
       "    <tr style=\"text-align: right;\">\n",
       "      <th></th>\n",
       "      <th>Step</th>\n",
       "      <th>Union Code</th>\n",
       "      <th>Extended Step</th>\n",
       "    </tr>\n",
       "  </thead>\n",
       "  <tbody>\n",
       "    <tr>\n",
       "      <th>count</th>\n",
       "      <td>1356.000000</td>\n",
       "      <td>1356.000000</td>\n",
       "      <td>1356.000000</td>\n",
       "    </tr>\n",
       "    <tr>\n",
       "      <th>mean</th>\n",
       "      <td>1.294985</td>\n",
       "      <td>392.676991</td>\n",
       "      <td>0.150442</td>\n",
       "    </tr>\n",
       "    <tr>\n",
       "      <th>std</th>\n",
       "      <td>1.045816</td>\n",
       "      <td>338.100562</td>\n",
       "      <td>1.006734</td>\n",
       "    </tr>\n",
       "    <tr>\n",
       "      <th>min</th>\n",
       "      <td>1.000000</td>\n",
       "      <td>1.000000</td>\n",
       "      <td>0.000000</td>\n",
       "    </tr>\n",
       "    <tr>\n",
       "      <th>25%</th>\n",
       "      <td>1.000000</td>\n",
       "      <td>21.000000</td>\n",
       "      <td>0.000000</td>\n",
       "    </tr>\n",
       "    <tr>\n",
       "      <th>50%</th>\n",
       "      <td>1.000000</td>\n",
       "      <td>351.000000</td>\n",
       "      <td>0.000000</td>\n",
       "    </tr>\n",
       "    <tr>\n",
       "      <th>75%</th>\n",
       "      <td>1.000000</td>\n",
       "      <td>790.000000</td>\n",
       "      <td>0.000000</td>\n",
       "    </tr>\n",
       "    <tr>\n",
       "      <th>max</th>\n",
       "      <td>5.000000</td>\n",
       "      <td>990.000000</td>\n",
       "      <td>11.000000</td>\n",
       "    </tr>\n",
       "  </tbody>\n",
       "</table>\n",
       "</div>"
      ],
      "text/plain": [
       "              Step   Union Code  Extended Step\n",
       "count  1356.000000  1356.000000    1356.000000\n",
       "mean      1.294985   392.676991       0.150442\n",
       "std       1.045816   338.100562       1.006734\n",
       "min       1.000000     1.000000       0.000000\n",
       "25%       1.000000    21.000000       0.000000\n",
       "50%       1.000000   351.000000       0.000000\n",
       "75%       1.000000   790.000000       0.000000\n",
       "max       5.000000   990.000000      11.000000"
      ]
     },
     "execution_count": 6,
     "metadata": {},
     "output_type": "execute_result"
    }
   ],
   "source": [
    "salary_ranges.describe()"
   ]
  },
  {
   "cell_type": "code",
   "execution_count": 23,
   "metadata": {
    "execution": {
     "iopub.execute_input": "2020-10-06T09:11:03.163945Z",
     "iopub.status.busy": "2020-10-06T09:11:03.163945Z",
     "iopub.status.idle": "2020-10-06T09:11:03.182894Z",
     "shell.execute_reply": "2020-10-06T09:11:03.181695Z",
     "shell.execute_reply.started": "2020-10-06T09:11:03.163945Z"
    }
   },
   "outputs": [
    {
     "data": {
      "text/html": [
       "<div>\n",
       "<style scoped>\n",
       "    .dataframe tbody tr th:only-of-type {\n",
       "        vertical-align: middle;\n",
       "    }\n",
       "\n",
       "    .dataframe tbody tr th {\n",
       "        vertical-align: top;\n",
       "    }\n",
       "\n",
       "    .dataframe thead th {\n",
       "        text-align: right;\n",
       "    }\n",
       "</style>\n",
       "<table border=\"1\" class=\"dataframe\">\n",
       "  <thead>\n",
       "    <tr style=\"text-align: right;\">\n",
       "      <th></th>\n",
       "      <th>Biweekly High Rate</th>\n",
       "      <th>Grade</th>\n",
       "    </tr>\n",
       "  </thead>\n",
       "  <tbody>\n",
       "    <tr>\n",
       "      <th>0</th>\n",
       "      <td>$0.00</td>\n",
       "      <td>00000</td>\n",
       "    </tr>\n",
       "    <tr>\n",
       "      <th>1</th>\n",
       "      <td>$15.00</td>\n",
       "      <td>00000</td>\n",
       "    </tr>\n",
       "    <tr>\n",
       "      <th>2</th>\n",
       "      <td>$25.00</td>\n",
       "      <td>00000</td>\n",
       "    </tr>\n",
       "    <tr>\n",
       "      <th>3</th>\n",
       "      <td>$50.00</td>\n",
       "      <td>00000</td>\n",
       "    </tr>\n",
       "    <tr>\n",
       "      <th>4</th>\n",
       "      <td>$100.00</td>\n",
       "      <td>00000</td>\n",
       "    </tr>\n",
       "  </tbody>\n",
       "</table>\n",
       "</div>"
      ],
      "text/plain": [
       "  Biweekly High Rate  Grade\n",
       "0              $0.00  00000\n",
       "1             $15.00  00000\n",
       "2             $25.00  00000\n",
       "3             $50.00  00000\n",
       "4            $100.00  00000"
      ]
     },
     "execution_count": 23,
     "metadata": {},
     "output_type": "execute_result"
    }
   ],
   "source": [
    "salary_ranges = salary_ranges[['Biweekly High Rate', 'Grade']]\n",
    "salary_ranges.head()"
   ]
  },
  {
   "cell_type": "code",
   "execution_count": 20,
   "metadata": {
    "execution": {
     "iopub.execute_input": "2020-10-06T09:10:12.933284Z",
     "iopub.status.busy": "2020-10-06T09:10:12.933284Z",
     "iopub.status.idle": "2020-10-06T09:10:12.955229Z",
     "shell.execute_reply": "2020-10-06T09:10:12.952275Z",
     "shell.execute_reply.started": "2020-10-06T09:10:12.933284Z"
    }
   },
   "outputs": [
    {
     "data": {
      "text/plain": [
       "0          0.00\n",
       "1         15.00\n",
       "2         25.00\n",
       "3         50.00\n",
       "4        100.00\n",
       "         ...   \n",
       "1351    2145.00\n",
       "1352    3041.00\n",
       "1353    3132.00\n",
       "1354    3453.00\n",
       "1355    3453.00\n",
       "Name: Biweekly High Rate, Length: 1356, dtype: object"
      ]
     },
     "execution_count": 20,
     "metadata": {},
     "output_type": "execute_result"
    }
   ],
   "source": [
    "salary_ranges.loc[:,'Biweekly High Rate']"
   ]
  },
  {
   "cell_type": "code",
   "execution_count": 25,
   "metadata": {
    "execution": {
     "iopub.execute_input": "2020-10-06T09:11:54.443898Z",
     "iopub.status.busy": "2020-10-06T09:11:54.443542Z",
     "iopub.status.idle": "2020-10-06T09:11:54.456507Z",
     "shell.execute_reply": "2020-10-06T09:11:54.455512Z",
     "shell.execute_reply.started": "2020-10-06T09:11:54.443898Z"
    }
   },
   "outputs": [
    {
     "data": {
      "text/html": [
       "<div>\n",
       "<style scoped>\n",
       "    .dataframe tbody tr th:only-of-type {\n",
       "        vertical-align: middle;\n",
       "    }\n",
       "\n",
       "    .dataframe tbody tr th {\n",
       "        vertical-align: top;\n",
       "    }\n",
       "\n",
       "    .dataframe thead th {\n",
       "        text-align: right;\n",
       "    }\n",
       "</style>\n",
       "<table border=\"1\" class=\"dataframe\">\n",
       "  <thead>\n",
       "    <tr style=\"text-align: right;\">\n",
       "      <th></th>\n",
       "      <th>Biweekly High Rate</th>\n",
       "      <th>Grade</th>\n",
       "    </tr>\n",
       "  </thead>\n",
       "  <tbody>\n",
       "    <tr>\n",
       "      <th>0</th>\n",
       "      <td>0.0</td>\n",
       "      <td>00000</td>\n",
       "    </tr>\n",
       "    <tr>\n",
       "      <th>1</th>\n",
       "      <td>15.0</td>\n",
       "      <td>00000</td>\n",
       "    </tr>\n",
       "    <tr>\n",
       "      <th>2</th>\n",
       "      <td>25.0</td>\n",
       "      <td>00000</td>\n",
       "    </tr>\n",
       "    <tr>\n",
       "      <th>3</th>\n",
       "      <td>50.0</td>\n",
       "      <td>00000</td>\n",
       "    </tr>\n",
       "    <tr>\n",
       "      <th>4</th>\n",
       "      <td>100.0</td>\n",
       "      <td>00000</td>\n",
       "    </tr>\n",
       "  </tbody>\n",
       "</table>\n",
       "</div>"
      ],
      "text/plain": [
       "   Biweekly High Rate  Grade\n",
       "0                 0.0  00000\n",
       "1                15.0  00000\n",
       "2                25.0  00000\n",
       "3                50.0  00000\n",
       "4               100.0  00000"
      ]
     },
     "execution_count": 25,
     "metadata": {},
     "output_type": "execute_result"
    }
   ],
   "source": [
    "salary_ranges['Biweekly High Rate'] = salary_ranges.loc[:,'Biweekly High Rate'].map(lambda x: x.replace('$', '')).astype(float)\n",
    "salary_ranges.head()"
   ]
  },
  {
   "cell_type": "code",
   "execution_count": 28,
   "metadata": {
    "execution": {
     "iopub.execute_input": "2020-10-06T09:12:23.155217Z",
     "iopub.status.busy": "2020-10-06T09:12:23.155217Z",
     "iopub.status.idle": "2020-10-06T09:12:23.181149Z",
     "shell.execute_reply": "2020-10-06T09:12:23.180151Z",
     "shell.execute_reply.started": "2020-10-06T09:12:23.155217Z"
    }
   },
   "outputs": [
    {
     "name": "stdout",
     "output_type": "stream",
     "text": [
      "<class 'pandas.core.frame.DataFrame'>\n",
      "RangeIndex: 1356 entries, 0 to 1355\n",
      "Data columns (total 2 columns):\n",
      " #   Column              Non-Null Count  Dtype  \n",
      "---  ------              --------------  -----  \n",
      " 0   Biweekly High Rate  1356 non-null   float64\n",
      " 1   Grade               1356 non-null   object \n",
      "dtypes: float64(1), object(1)\n",
      "memory usage: 21.3+ KB\n"
     ]
    }
   ],
   "source": [
    "salary_ranges.info()"
   ]
  },
  {
   "cell_type": "code",
   "execution_count": 35,
   "metadata": {
    "execution": {
     "iopub.execute_input": "2020-10-06T09:19:00.388148Z",
     "iopub.status.busy": "2020-10-06T09:19:00.387149Z",
     "iopub.status.idle": "2020-10-06T09:19:00.747429Z",
     "shell.execute_reply": "2020-10-06T09:19:00.746429Z",
     "shell.execute_reply.started": "2020-10-06T09:19:00.387149Z"
    }
   },
   "outputs": [
    {
     "data": {
      "text/plain": [
       "<AxesSubplot:>"
      ]
     },
     "execution_count": 35,
     "metadata": {},
     "output_type": "execute_result"
    },
    {
     "data": {
      "image/png": "[encoded data removed]",
      "text/plain": [
       "<Figure size 432x288 with 1 Axes>"
      ]
     },
     "metadata": {},
     "output_type": "display_data"
    }
   ],
   "source": [
    "salary_ranges.loc[:,'Grade'].value_counts().head(20).plot(kind='bar')"
   ]
  },
  {
   "cell_type": "code",
   "execution_count": 60,
   "metadata": {
    "execution": {
     "iopub.execute_input": "2020-10-06T09:36:48.661939Z",
     "iopub.status.busy": "2020-10-06T09:36:48.661939Z",
     "iopub.status.idle": "2020-10-06T09:36:48.744721Z",
     "shell.execute_reply": "2020-10-06T09:36:48.743722Z",
     "shell.execute_reply.started": "2020-10-06T09:36:48.661939Z"
    }
   },
   "outputs": [
    {
     "data": {
      "text/html": [
       "<div>\n",
       "<style scoped>\n",
       "    .dataframe tbody tr th:only-of-type {\n",
       "        vertical-align: middle;\n",
       "    }\n",
       "\n",
       "    .dataframe tbody tr th {\n",
       "        vertical-align: top;\n",
       "    }\n",
       "\n",
       "    .dataframe thead th {\n",
       "        text-align: right;\n",
       "    }\n",
       "</style>\n",
       "<table border=\"1\" class=\"dataframe\">\n",
       "  <thead>\n",
       "    <tr style=\"text-align: right;\">\n",
       "      <th></th>\n",
       "      <th>RESPNUM</th>\n",
       "      <th>CCGID</th>\n",
       "      <th>RUN</th>\n",
       "      <th>INTDATE</th>\n",
       "      <th>GATE</th>\n",
       "      <th>STRATA</th>\n",
       "      <th>PEAK</th>\n",
       "      <th>METHOD</th>\n",
       "      <th>AIRLINE</th>\n",
       "      <th>FLIGHT</th>\n",
       "      <th>...</th>\n",
       "      <th>Q17_COUNTRY</th>\n",
       "      <th>HOME</th>\n",
       "      <th>Q18_AGE</th>\n",
       "      <th>Q19_SEX</th>\n",
       "      <th>Q20_INCOME</th>\n",
       "      <th>Q21_HIFLYER</th>\n",
       "      <th>Q22A_USESJC</th>\n",
       "      <th>Q22B_USEOAK</th>\n",
       "      <th>LANG</th>\n",
       "      <th>WEIGHT</th>\n",
       "    </tr>\n",
       "  </thead>\n",
       "  <tbody>\n",
       "    <tr>\n",
       "      <th>0</th>\n",
       "      <td>1</td>\n",
       "      <td>1</td>\n",
       "      <td>1215</td>\n",
       "      <td>2</td>\n",
       "      <td>12</td>\n",
       "      <td>1</td>\n",
       "      <td>1</td>\n",
       "      <td>1</td>\n",
       "      <td>21</td>\n",
       "      <td>1437</td>\n",
       "      <td>...</td>\n",
       "      <td>US</td>\n",
       "      <td>1</td>\n",
       "      <td>2</td>\n",
       "      <td>1</td>\n",
       "      <td>1</td>\n",
       "      <td>2</td>\n",
       "      <td>2</td>\n",
       "      <td>1</td>\n",
       "      <td>1</td>\n",
       "      <td>0.553675</td>\n",
       "    </tr>\n",
       "    <tr>\n",
       "      <th>1</th>\n",
       "      <td>2</td>\n",
       "      <td>2</td>\n",
       "      <td>1215</td>\n",
       "      <td>2</td>\n",
       "      <td>12</td>\n",
       "      <td>1</td>\n",
       "      <td>1</td>\n",
       "      <td>1</td>\n",
       "      <td>21</td>\n",
       "      <td>1437</td>\n",
       "      <td>...</td>\n",
       "      <td>US</td>\n",
       "      <td>5</td>\n",
       "      <td>6</td>\n",
       "      <td>1</td>\n",
       "      <td>0</td>\n",
       "      <td>3</td>\n",
       "      <td>2</td>\n",
       "      <td>1</td>\n",
       "      <td>1</td>\n",
       "      <td>0.553675</td>\n",
       "    </tr>\n",
       "    <tr>\n",
       "      <th>2</th>\n",
       "      <td>3</td>\n",
       "      <td>3</td>\n",
       "      <td>1215</td>\n",
       "      <td>2</td>\n",
       "      <td>12</td>\n",
       "      <td>1</td>\n",
       "      <td>1</td>\n",
       "      <td>1</td>\n",
       "      <td>21</td>\n",
       "      <td>1437</td>\n",
       "      <td>...</td>\n",
       "      <td>US</td>\n",
       "      <td>1</td>\n",
       "      <td>4</td>\n",
       "      <td>2</td>\n",
       "      <td>2</td>\n",
       "      <td>3</td>\n",
       "      <td>2</td>\n",
       "      <td>2</td>\n",
       "      <td>1</td>\n",
       "      <td>0.553675</td>\n",
       "    </tr>\n",
       "    <tr>\n",
       "      <th>3</th>\n",
       "      <td>4</td>\n",
       "      <td>4</td>\n",
       "      <td>1215</td>\n",
       "      <td>2</td>\n",
       "      <td>12</td>\n",
       "      <td>1</td>\n",
       "      <td>1</td>\n",
       "      <td>1</td>\n",
       "      <td>21</td>\n",
       "      <td>1437</td>\n",
       "      <td>...</td>\n",
       "      <td>US</td>\n",
       "      <td>90</td>\n",
       "      <td>4</td>\n",
       "      <td>1</td>\n",
       "      <td>2</td>\n",
       "      <td>2</td>\n",
       "      <td>2</td>\n",
       "      <td>2</td>\n",
       "      <td>1</td>\n",
       "      <td>0.553675</td>\n",
       "    </tr>\n",
       "    <tr>\n",
       "      <th>4</th>\n",
       "      <td>5</td>\n",
       "      <td>5</td>\n",
       "      <td>1215</td>\n",
       "      <td>2</td>\n",
       "      <td>12</td>\n",
       "      <td>1</td>\n",
       "      <td>1</td>\n",
       "      <td>1</td>\n",
       "      <td>21</td>\n",
       "      <td>1437</td>\n",
       "      <td>...</td>\n",
       "      <td>US</td>\n",
       "      <td>10</td>\n",
       "      <td>3</td>\n",
       "      <td>1</td>\n",
       "      <td>3</td>\n",
       "      <td>1</td>\n",
       "      <td>0</td>\n",
       "      <td>1</td>\n",
       "      <td>1</td>\n",
       "      <td>0.553675</td>\n",
       "    </tr>\n",
       "  </tbody>\n",
       "</table>\n",
       "<p>5 rows × 95 columns</p>\n",
       "</div>"
      ],
      "text/plain": [
       "   RESPNUM CCGID   RUN  INTDATE  GATE  STRATA  PEAK  METHOD  AIRLINE  FLIGHT  \\\n",
       "0        1     1  1215        2    12       1     1       1       21    1437   \n",
       "1        2     2  1215        2    12       1     1       1       21    1437   \n",
       "2        3     3  1215        2    12       1     1       1       21    1437   \n",
       "3        4     4  1215        2    12       1     1       1       21    1437   \n",
       "4        5     5  1215        2    12       1     1       1       21    1437   \n",
       "\n",
       "   ...  Q17_COUNTRY  HOME  Q18_AGE Q19_SEX Q20_INCOME  Q21_HIFLYER  \\\n",
       "0  ...           US     1        2       1          1            2   \n",
       "1  ...           US     5        6       1          0            3   \n",
       "2  ...           US     1        4       2          2            3   \n",
       "3  ...           US    90        4       1          2            2   \n",
       "4  ...           US    10        3       1          3            1   \n",
       "\n",
       "   Q22A_USESJC  Q22B_USEOAK  LANG    WEIGHT  \n",
       "0            2            1     1  0.553675  \n",
       "1            2            1     1  0.553675  \n",
       "2            2            2     1  0.553675  \n",
       "3            2            2     1  0.553675  \n",
       "4            0            1     1  0.553675  \n",
       "\n",
       "[5 rows x 95 columns]"
      ]
     },
     "execution_count": 60,
     "metadata": {},
     "output_type": "execute_result"
    }
   ],
   "source": [
    "# load San Fran data\n",
    "customer = pd.read_csv('data/2013_SFO_Customer_survey.csv')\n",
    "customer.head()"
   ]
  },
  {
   "cell_type": "code",
   "execution_count": 53,
   "metadata": {
    "execution": {
     "iopub.execute_input": "2020-10-06T09:34:43.622754Z",
     "iopub.status.busy": "2020-10-06T09:34:43.622754Z",
     "iopub.status.idle": "2020-10-06T09:34:43.642698Z",
     "shell.execute_reply": "2020-10-06T09:34:43.641701Z",
     "shell.execute_reply.started": "2020-10-06T09:34:43.622754Z"
    }
   },
   "outputs": [
    {
     "name": "stdout",
     "output_type": "stream",
     "text": [
      "<class 'pandas.core.frame.DataFrame'>\n",
      "RangeIndex: 3535 entries, 0 to 3534\n",
      "Data columns (total 95 columns):\n",
      " #   Column           Non-Null Count  Dtype  \n",
      "---  ------           --------------  -----  \n",
      " 0   RESPNUM          3535 non-null   int64  \n",
      " 1   CCGID            3535 non-null   object \n",
      " 2   RUN              3535 non-null   int64  \n",
      " 3   INTDATE          3535 non-null   int64  \n",
      " 4   GATE             3535 non-null   int64  \n",
      " 5   STRATA           3535 non-null   int64  \n",
      " 6   PEAK             3535 non-null   int64  \n",
      " 7   METHOD           3535 non-null   int64  \n",
      " 8   AIRLINE          3535 non-null   int64  \n",
      " 9   FLIGHT           3535 non-null   int64  \n",
      " 10  DEST             3535 non-null   int64  \n",
      " 11  DESTGEO          3535 non-null   int64  \n",
      " 12  DESTMARK         3535 non-null   int64  \n",
      " 13  ARRTIME          3535 non-null   object \n",
      " 14  DEPTIME          3535 non-null   object \n",
      " 15  Q2PURP1          3535 non-null   int64  \n",
      " 16  Q2PURP2          3459 non-null   float64\n",
      " 17  Q2PURP3          163 non-null    float64\n",
      " 18  Q2PURP4          17 non-null     float64\n",
      " 19  Q2PURP5          2 non-null      float64\n",
      " 20  Q2PURP6          0 non-null      float64\n",
      " 21  Q3GETTO1         3535 non-null   int64  \n",
      " 22  Q3GETTO2         3505 non-null   float64\n",
      " 23  Q3GETTO3         17 non-null     float64\n",
      " 24  Q3GETTO4         1 non-null      float64\n",
      " 25  Q3GETTO5         0 non-null      float64\n",
      " 26  Q3GETTO6         0 non-null      float64\n",
      " 27  Q3PARK           284 non-null    float64\n",
      " 28  Q4BAGS           3535 non-null   int64  \n",
      " 29  Q4BUY            3535 non-null   int64  \n",
      " 30  Q4FOOD           3535 non-null   int64  \n",
      " 31  Q4WIFI           3535 non-null   int64  \n",
      " 32  Q5FLYPERYR       3535 non-null   int64  \n",
      " 33  Q6TENURE         3535 non-null   float64\n",
      " 34  SAQ              3535 non-null   int64  \n",
      " 35  Q7A_ART          3535 non-null   int64  \n",
      " 36  Q7B_FOOD         3535 non-null   int64  \n",
      " 37  Q7C_SHOPS        3535 non-null   int64  \n",
      " 38  Q7D_SIGNS        3535 non-null   int64  \n",
      " 39  Q7E_WALK         3535 non-null   int64  \n",
      " 40  Q7F_SCREENS      3535 non-null   int64  \n",
      " 41  Q7G_INFOARR      3535 non-null   int64  \n",
      " 42  Q7H_INFODEP      3535 non-null   int64  \n",
      " 43  Q7I_WIFI         3535 non-null   int64  \n",
      " 44  Q7J_ROAD         3535 non-null   int64  \n",
      " 45  Q7K_PARK         3535 non-null   int64  \n",
      " 46  Q7L_AIRTRAIN     3535 non-null   int64  \n",
      " 47  Q7M_LTPARK       3535 non-null   int64  \n",
      " 48  Q7N_RENTAL       3535 non-null   int64  \n",
      " 49  Q7O_WHOLE        3535 non-null   int64  \n",
      " 50  Q8COM1           1495 non-null   float64\n",
      " 51  Q8COM2           308 non-null    float64\n",
      " 52  Q8COM3           59 non-null     float64\n",
      " 53  Q9A_CLNBOARD     3535 non-null   int64  \n",
      " 54  Q9B_CLNAIRTRAIN  3535 non-null   int64  \n",
      " 55  Q9C_CLNRENT      3535 non-null   int64  \n",
      " 56  Q9D_CLNFOOD      3535 non-null   int64  \n",
      " 57  Q9E_CLNBATH      3535 non-null   int64  \n",
      " 58  Q9F_CLNWHOLE     3535 non-null   int64  \n",
      " 59  Q9COM1           180 non-null    float64\n",
      " 60  Q9COM2           4 non-null      float64\n",
      " 61  Q9COM3           4 non-null      float64\n",
      " 62  Q10SAFE          3535 non-null   int64  \n",
      " 63  Q10COM1          1683 non-null   float64\n",
      " 64  Q10COM2          221 non-null    float64\n",
      " 65  Q10COM3          14 non-null     float64\n",
      " 66  Q11A_USEWEB      3535 non-null   int64  \n",
      " 67  Q11B_USESFOAPP   3535 non-null   int64  \n",
      " 68  Q11C_USEOTHAPP   3535 non-null   int64  \n",
      " 69  Q11D_USESOCMED   3535 non-null   int64  \n",
      " 70  Q11E_USEWIFI     3535 non-null   int64  \n",
      " 71  Q12COM1          706 non-null    float64\n",
      " 72  Q12COM2          75 non-null     float64\n",
      " 73  Q12COM3          2 non-null      float64\n",
      " 74  Q13_WHEREDEPART  3535 non-null   int64  \n",
      " 75  Q13_RATEGETTO    3535 non-null   int64  \n",
      " 76  Q14A_FIND        3535 non-null   int64  \n",
      " 77  Q14B_SECURITY    3535 non-null   int64  \n",
      " 78  Q15_PROBLEMS     3535 non-null   int64  \n",
      " 79  Q15COM1          389 non-null    float64\n",
      " 80  Q15COM2          21 non-null     float64\n",
      " 81  Q15COM3          1 non-null      float64\n",
      " 82  Q16_REGION       3535 non-null   int64  \n",
      " 83  Q17_CITY         3234 non-null   object \n",
      " 84  Q17_ZIP          2276 non-null   float64\n",
      " 85  Q17_COUNTRY      3410 non-null   object \n",
      " 86  HOME             3535 non-null   int64  \n",
      " 87  Q18_AGE          3535 non-null   int64  \n",
      " 88  Q19_SEX          3535 non-null   int64  \n",
      " 89  Q20_INCOME       3535 non-null   int64  \n",
      " 90  Q21_HIFLYER      3535 non-null   int64  \n",
      " 91  Q22A_USESJC      3535 non-null   int64  \n",
      " 92  Q22B_USEOAK      3535 non-null   int64  \n",
      " 93  LANG             3535 non-null   int64  \n",
      " 94  WEIGHT           3535 non-null   float64\n",
      "dtypes: float64(29), int64(61), object(5)\n",
      "memory usage: 2.6+ MB\n"
     ]
    }
   ],
   "source": [
    "customer.info()"
   ]
  },
  {
   "cell_type": "code",
   "execution_count": 40,
   "metadata": {
    "execution": {
     "iopub.execute_input": "2020-10-06T09:26:28.384940Z",
     "iopub.status.busy": "2020-10-06T09:26:28.384731Z",
     "iopub.status.idle": "2020-10-06T09:26:28.553787Z",
     "shell.execute_reply": "2020-10-06T09:26:28.552790Z",
     "shell.execute_reply.started": "2020-10-06T09:26:28.384940Z"
    }
   },
   "outputs": [
    {
     "data": {
      "text/plain": [
       "<AxesSubplot:>"
      ]
     },
     "execution_count": 40,
     "metadata": {},
     "output_type": "execute_result"
    },
    {
     "data": {
      "image/png": "[encoded data removed]",
      "text/plain": [
       "<Figure size 432x288 with 1 Axes>"
      ]
     },
     "metadata": {},
     "output_type": "display_data"
    }
   ],
   "source": [
    "customer.loc[:,'Q7A_ART'].value_counts().plot(kind='bar')"
   ]
  },
  {
   "cell_type": "code",
   "execution_count": 41,
   "metadata": {
    "execution": {
     "iopub.execute_input": "2020-10-06T09:27:19.058041Z",
     "iopub.status.busy": "2020-10-06T09:27:19.057046Z",
     "iopub.status.idle": "2020-10-06T09:27:19.078985Z",
     "shell.execute_reply": "2020-10-06T09:27:19.076994Z",
     "shell.execute_reply.started": "2020-10-06T09:27:19.058041Z"
    }
   },
   "outputs": [
    {
     "data": {
      "text/plain": [
       "count    3535.000000\n",
       "mean        4.300707\n",
       "std         1.341445\n",
       "min         0.000000\n",
       "25%         3.000000\n",
       "50%         4.000000\n",
       "75%         5.000000\n",
       "max         6.000000\n",
       "Name: Q7A_ART, dtype: float64"
      ]
     },
     "execution_count": 41,
     "metadata": {},
     "output_type": "execute_result"
    }
   ],
   "source": [
    "customer.loc[:,'Q7A_ART'].describe()"
   ]
  },
  {
   "cell_type": "code",
   "execution_count": 61,
   "metadata": {
    "execution": {
     "iopub.execute_input": "2020-10-06T09:36:56.027860Z",
     "iopub.status.busy": "2020-10-06T09:36:56.027860Z",
     "iopub.status.idle": "2020-10-06T09:36:56.035838Z",
     "shell.execute_reply": "2020-10-06T09:36:56.035838Z",
     "shell.execute_reply.started": "2020-10-06T09:36:56.027860Z"
    }
   },
   "outputs": [],
   "source": [
    "art_ratings = customer.loc[:,'Q7A_ART']"
   ]
  },
  {
   "cell_type": "code",
   "execution_count": 63,
   "metadata": {
    "execution": {
     "iopub.execute_input": "2020-10-06T09:37:57.428241Z",
     "iopub.status.busy": "2020-10-06T09:37:57.428241Z",
     "iopub.status.idle": "2020-10-06T09:37:57.440210Z",
     "shell.execute_reply": "2020-10-06T09:37:57.439212Z",
     "shell.execute_reply.started": "2020-10-06T09:37:57.428241Z"
    }
   },
   "outputs": [
    {
     "data": {
      "text/plain": [
       "count    2656.000000\n",
       "mean        3.964232\n",
       "std         0.859116\n",
       "min         1.000000\n",
       "25%         3.000000\n",
       "50%         4.000000\n",
       "75%         5.000000\n",
       "max         5.000000\n",
       "Name: Q7A_ART, dtype: float64"
      ]
     },
     "execution_count": 63,
     "metadata": {},
     "output_type": "execute_result"
    }
   ],
   "source": [
    "art_ratings = art_ratings[(art_ratings >=1) & (art_ratings <=5)]\n",
    "art_ratings.describe()"
   ]
  },
  {
   "cell_type": "code",
   "execution_count": 64,
   "metadata": {
    "execution": {
     "iopub.execute_input": "2020-10-06T09:38:04.165417Z",
     "iopub.status.busy": "2020-10-06T09:38:04.164418Z",
     "iopub.status.idle": "2020-10-06T09:38:04.188362Z",
     "shell.execute_reply": "2020-10-06T09:38:04.186359Z",
     "shell.execute_reply.started": "2020-10-06T09:38:04.165417Z"
    }
   },
   "outputs": [],
   "source": [
    "art_ratings = art_ratings.astype(str)"
   ]
  },
  {
   "cell_type": "code",
   "execution_count": 65,
   "metadata": {
    "execution": {
     "iopub.execute_input": "2020-10-06T09:38:05.556314Z",
     "iopub.status.busy": "2020-10-06T09:38:05.555278Z",
     "iopub.status.idle": "2020-10-06T09:38:05.574227Z",
     "shell.execute_reply": "2020-10-06T09:38:05.573288Z",
     "shell.execute_reply.started": "2020-10-06T09:38:05.556314Z"
    }
   },
   "outputs": [
    {
     "data": {
      "text/plain": [
       "count     2656\n",
       "unique       5\n",
       "top        4.0\n",
       "freq      1066\n",
       "Name: Q7A_ART, dtype: object"
      ]
     },
     "execution_count": 65,
     "metadata": {},
     "output_type": "execute_result"
    }
   ],
   "source": [
    "art_ratings.describe()"
   ]
  },
  {
   "cell_type": "code",
   "execution_count": 67,
   "metadata": {
    "execution": {
     "iopub.execute_input": "2020-10-06T09:39:23.905681Z",
     "iopub.status.busy": "2020-10-06T09:39:23.905681Z",
     "iopub.status.idle": "2020-10-06T09:39:24.087057Z",
     "shell.execute_reply": "2020-10-06T09:39:24.086099Z",
     "shell.execute_reply.started": "2020-10-06T09:39:23.905681Z"
    }
   },
   "outputs": [
    {
     "data": {
      "text/plain": [
       "<AxesSubplot:>"
      ]
     },
     "execution_count": 67,
     "metadata": {},
     "output_type": "execute_result"
    },
    {
     "data": {
      "image/png": "[encoded data removed]",
      "text/plain": [
       "<Figure size 432x288 with 1 Axes>"
      ]
     },
     "metadata": {},
     "output_type": "display_data"
    }
   ],
   "source": [
    "art_ratings.value_counts().plot(kind='box')"
   ]
  },
  {
   "cell_type": "code",
   "execution_count": null,
   "metadata": {},
   "outputs": [],
   "source": []
  }
 ],
 "metadata": {
  "kernelspec": {
   "display_name": "Python 3",
   "language": "python",
   "name": "python3"
  },
  "language_info": {
   "codemirror_mode": {
    "name": "ipython",
    "version": 3
   },
   "file_extension": ".py",
   "mimetype": "text/x-python",
   "name": "python",
   "nbconvert_exporter": "python",
   "pygments_lexer": "ipython3",
   "version": "3.6.12"
  }
 },
 "nbformat": 4,
 "nbformat_minor": 4
}
